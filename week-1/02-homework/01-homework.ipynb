{
  "cells": [
    {
      "cell_type": "markdown",
      "id": "4eb1f2da-1be9-465f-a23c-ee807b9fce39",
      "metadata": {
        "id": "4eb1f2da-1be9-465f-a23c-ee807b9fce39"
      },
      "source": [
        "# Homework: Learning to Code"
      ]
    },
    {
      "cell_type": "markdown",
      "id": "eb8de40c-e3cf-40ab-9420-ea90d78011f7",
      "metadata": {
        "id": "eb8de40c-e3cf-40ab-9420-ea90d78011f7"
      },
      "source": [
        "## **Submission Guidelines**"
      ]
    },
    {
      "cell_type": "markdown",
      "id": "48c42e3d-5a43-4cf3-a95d-d72495bca344",
      "metadata": {
        "id": "48c42e3d-5a43-4cf3-a95d-d72495bca344"
      },
      "source": [
        "* Focus on completing Exercises 1, 2 and 3. Exercises 4 and 5 are _stretch challenges_.\n",
        "* Submit your work as a single Python file (__`.py`__) or a Jupyter Notebook (__`.ipynb`__).\n",
        "* Clearly label each exercise and include comments to explain your logic."
      ]
    },
    {
      "cell_type": "markdown",
      "id": "b6652965-0fa6-44d8-90cb-cda2d452f10b",
      "metadata": {
        "id": "b6652965-0fa6-44d8-90cb-cda2d452f10b"
      },
      "source": [
        "### Exercise 1: Algorithms\n",
        "For each of the problems below, write an algorithm (in English) to explain how to solve the problem. Think about whether another person can perform the task based on the steps you wrote down, without consulting you. If so, you're done.\n",
        "1. **Vote Eligibility** Given an age, determine if the person is eligible to vote\n",
        "1. **Tip Computation** Compute the tip at a restaurant\n",
        "1. **Layaway Computation** Given a total price, and a number of months, compute the cost per month to buy the item on \"lawaway\" (i.e., the buyer pays for a portion of the cost each month until it is paid off, and then the buyer takes possession of them item). Assume no interest is added, so that the buyer just pays the total amount, split over some number of months."
      ]
    },
    {
      "cell_type": "code",
      "source": [
        "1. If person is a citizen, then get his his age if it is greater or equal 18, he is eligible. Otherwise no.\n",
        "2. Get the bill subtotal before tax, multiply it by 0.2 the result is tip amount.\n",
        "3. Check if total price and number of mounth greater then 0. If not, then its an error. If yes, get the total price devide it by the number of months."
      ],
      "metadata": {
        "id": "eKBo3MgROs1P"
      },
      "id": "eKBo3MgROs1P",
      "execution_count": null,
      "outputs": []
    },
    {
      "cell_type": "markdown",
      "id": "e8086ec2-ae62-43fc-8541-2d4c51780ec1",
      "metadata": {
        "id": "e8086ec2-ae62-43fc-8541-2d4c51780ec1"
      },
      "source": [
        "### Exercise 2: More Algorithms\n",
        "1. **Calculate Seconds** Given a number of hours and a number of minutes, compute the total number of seconds (e.g., 2 hours and 38 minutes is 9480 seconds)\n",
        "1. **Count Vowels** Given a sentence, count the number of vowels (a, e, i, o, u) in that sentence\n",
        "1. **Find the Largest Number** Given a list of numbers, determine the largest number in the list"
      ]
    },
    {
      "cell_type": "code",
      "source": [
        "1. Get number of hours multipy it by 60 and add the number of minutes\n",
        " then multiply it by 60. The result is the total number of seconds.\n",
        "\n",
        "2. Read through the sentence letter by letter. If a letter is uppercase,\n",
        "consider it as lowercase, then check if it is in the list (a, e, i, o, u) and circle it.\n",
        "At the end, count the circles to get the total number of vowels.\n",
        "\n",
        "3. Check if the list is empty. If it is, then there is no greatest number.\n",
        "If it is not empty, do the following:\n",
        "  3.1 Choose the first number in the list and call it tempMax.\n",
        "  3.2 Go through the list one number at a time.\n",
        "  3.3 For each number,compare it to tempMax. If the number is greater than tempMax,\n",
        "  write instead of previos number in tempMax that number.\n",
        "  3.4 After you finish going through the list, tempMax is the largest number."
      ],
      "metadata": {
        "id": "nZeeToy5QIBR"
      },
      "id": "nZeeToy5QIBR",
      "execution_count": null,
      "outputs": []
    },
    {
      "cell_type": "markdown",
      "id": "1e13952c-7049-4d2d-bf2f-cfb11ec3126b",
      "metadata": {
        "id": "1e13952c-7049-4d2d-bf2f-cfb11ec3126b"
      },
      "source": [
        "### Exercise 3: Even More Algorithms\n",
        "1. **Palidrome** Determine whether a word is a palindrome, i.e., the same backwards or forwards (e.g., __civic__, __noon__, __kayak__, __level__, __racecar__)\n",
        "1. **Sort a List** Describe the steps required to arrange a list of numbers in ascending order (e.g., _3, 1, 7, 8, 4, 11, 9, 0_ → _0, 1, 3, 4, 7, 8, 9, 11_"
      ]
    },
    {
      "cell_type": "code",
      "execution_count": null,
      "id": "0856dd77-5fe1-40bc-b11b-d6a63ce43528",
      "metadata": {
        "id": "0856dd77-5fe1-40bc-b11b-d6a63ce43528"
      },
      "outputs": [],
      "source": [
        "Check if the given word consist at least one letter. If not, then it is not a palindrome.\n",
        "Check if the given word consist the only one letter. Then yes, its palindrome.\n",
        "if the given word consist more then one letter then, do the following:\n",
        "  1. Read through the word letter by letter, writing each letter on paper.\n",
        "  If a letter is uppercase, write it as lowercase.\n",
        "  The result is new word that we are going to use in all next steps.\n",
        "  1. Get two pens, put one of the pens on the first letter of the word and other\n",
        "  on the last letter of the word.\n",
        "  2. Compare the letters that your pens point to,\n",
        "    2.1 If the letters are the same, move the left pen one letter to the right\n",
        "    and the right pen one letter to the left.\n",
        "    2.2 if the are not the same, then the given word isn not a palindrome.\n",
        "  3. Repeat step 2 until your pens meet or cross each other.\n",
        "  4. If your pens meet or cross each other, then the given word is a palindrome.\n"
      ]
    },
    {
      "cell_type": "code",
      "execution_count": null,
      "id": "a10e855c-7cf3-4785-a8a8-a58916ef4670",
      "metadata": {
        "id": "a10e855c-7cf3-4785-a8a8-a58916ef4670"
      },
      "outputs": [],
      "source": [
        "Check if the list is empty. If yes, then list are sorted.\n",
        "If the list is not empty, then do the following:\n",
        "  1. For each position in the list from the first element to the last :\n",
        "    1.1 Assume the element at the current position is the smallest.\n",
        "    1.2 Look through the rest of the list to find an element that is smaller.\n",
        "    1.3 If a smaller element is found, update the smallest element.\n",
        "    1.4 Swap the smallest element found with the element at the current position.\n",
        "  2. Continue this process until you have processed the entire list.\n",
        "  3. List is sorted."
      ]
    },
    {
      "cell_type": "markdown",
      "id": "0f5cb9cc-0bde-4fa5-b3a2-84cdbbd17d4b",
      "metadata": {
        "id": "0f5cb9cc-0bde-4fa5-b3a2-84cdbbd17d4b"
      },
      "source": [
        "### Exercise 4: Try some famous algorithms by hand (more difficult)\n",
        "Let's change it up a bit. Instead of writing the algorithms, try out some algorithms by hand, here in the notebook or on paper.\n",
        "1. **Kaprekar's Constant** The number 6174 is known as [Kaprekar's Constant](https://en.wikipedia.org/wiki/6174). Apply the following algorithm to any four-digit number (where all digits are not the same) and you will eventually get to 6174, Kaprekar's Constant:\n",
        "    1. Select any four-digit number which has at least two different digits (leading zeros are allowed)\n",
        "    1. Create two new four-digit numbers by arranging the original digits in  ascending and descending order (adding leading zeros if necessary)\n",
        "    1. Subtract the smaller number from the bigger number\n",
        "    1. If the result is not 6174, return to step 2 and repeat\n",
        "1. **[Collatz Conjecture](https://en.wikipedia.org/wiki/Collatz_conjecture)** This is  a famous unsolved problem in mathematics. We won't try to prove it (no one has been able to prove it for almost 100 years), but instead, we will follow the steps for a few example numbers:\n",
        "    1. start with any integer greater than 1\n",
        "    1. if the number is even, divide it by 2\n",
        "    1. if the number is odd, multiply it by 3 and add 1\n",
        "    1. keep doing the above two steps, you'll eventually end up with 1\n",
        "    1. try it with the numbers 5, 24, and 33"
      ]
    },
    {
      "cell_type": "code",
      "source": [
        "1. 3231\n",
        "--------------------------------\n",
        "2. 1233 and 3321\n",
        "3. 3321 - 1233 = 2088\n",
        "--------------------------------\n",
        "4. 0288 and 8820\n",
        "5. 8820 - 288 = 8532\n",
        "--------------------------------\n",
        "6. 8532 and 2358\n",
        "7. 8532 - 2358 = 6174\n",
        "Done!"
      ],
      "metadata": {
        "collapsed": true,
        "id": "2Fek4rQdgv93"
      },
      "id": "2Fek4rQdgv93",
      "execution_count": null,
      "outputs": []
    },
    {
      "cell_type": "code",
      "source": [
        "5\n",
        "5 * 3 + 1\n",
        "5 * 3 + 1 = 16\n",
        "16 / 2\n",
        "16 / 2 = 8\n",
        "8 / 2\n",
        "8 / 2 = 4\n",
        "4 / 2\n",
        "4 / 2 = 2\n",
        "2 / 2\n",
        "2 / 2 = 1\n",
        "Done!"
      ],
      "metadata": {
        "id": "yid7FAWWmAsu"
      },
      "id": "yid7FAWWmAsu",
      "execution_count": null,
      "outputs": []
    },
    {
      "cell_type": "code",
      "source": [
        "24\n",
        "24 / 2\n",
        "24 / 2 = 12\n",
        "12 / 2\n",
        "12 / 2 = 6\n",
        "6 / 2\n",
        "6 / 2 = 3\n",
        "3 * 3 + 1\n",
        "3 * 3 + 1 = 10\n",
        "10 / 2\n",
        "10 / 2 = 5\n",
        "5 * 3 + 1\n",
        "5 * 3 + 1 = 16\n",
        "16 / 2\n",
        "16 / 2 = 8\n",
        "8 / 2\n",
        "8 / 2 = 4\n",
        "4 / 2\n",
        "4 / 2 = 2\n",
        "2 / 2\n",
        "2 / 2 = 1\n",
        "Done!"
      ],
      "metadata": {
        "id": "ysBrH9MmnExS"
      },
      "id": "ysBrH9MmnExS",
      "execution_count": null,
      "outputs": []
    },
    {
      "cell_type": "markdown",
      "id": "b22d131f-e827-4e9c-a770-ca4bfd8fe41d",
      "metadata": {
        "id": "b22d131f-e827-4e9c-a770-ca4bfd8fe41d"
      },
      "source": [
        "### Exercise 5: Algorithms (more difficult)\n",
        "For each of the problems below, write an algorithm (in English) to explain how to solve the problem. Think about whether another person can perform the task based on the steps you wrote down, without consulting you. If so, you're done.\n",
        "1. **Prime Number** determine whether an integer is a prime number or not (a number is prime if it's only divisible by 1 and itself)\n",
        "2. **Pangram** determine whether a sentence is a pangram (a pangram is a sentence or verse that contains all the letters of the alphabet), e.g., these are all pangrams\n",
        "   * _The wizard quickly jinxed the gnomes before they vaporized_\n",
        "   * _How vexingly quick daft zebras jump_\n",
        "   * _Five or six big jet planes zoomed quickly by the tower_\n",
        "   * _Pack my box with five dozen liquor jugs_\n",
        "3. **Anagrams** check if two words are anagrams of each other, that is, they contain the same letters in a differet order (e.g., \"silent\" and \"listen\")\n",
        "4. **Compress a String** implement basic text compression where repeated characters are replaced with counts (e.g., \"aabcccccaaa\" → \"a2b1c5a3\")\n",
        "1. **Happy Numbers** determine if a number is a _happy number_ (a happy number is a number which eventually reaches 1 when replaced by the sum of the square of each digit–e.g., 13 is a happy number because 1<sup>2</sup> + 3<sup>2</sup> = 10, and 1<sup>2</sup> + 0<sup>2</sup> = 1)"
      ]
    },
    {
      "cell_type": "code",
      "execution_count": null,
      "id": "54cd1b30-4c2f-4eca-b6ce-1eb2fc2043bb",
      "metadata": {
        "id": "54cd1b30-4c2f-4eca-b6ce-1eb2fc2043bb"
      },
      "outputs": [],
      "source": []
    },
    {
      "cell_type": "code",
      "execution_count": null,
      "id": "ef105ffa-352a-4c27-8281-ecec10cd7d85",
      "metadata": {
        "id": "ef105ffa-352a-4c27-8281-ecec10cd7d85"
      },
      "outputs": [],
      "source": []
    },
    {
      "cell_type": "markdown",
      "id": "fe2e6033-5804-4cd7-bd54-3ebcc63db052",
      "metadata": {
        "id": "fe2e6033-5804-4cd7-bd54-3ebcc63db052"
      },
      "source": []
    },
    {
      "cell_type": "markdown",
      "id": "4c1aa9ec-4d97-4c0c-befc-9bddfbe2c302",
      "metadata": {
        "id": "4c1aa9ec-4d97-4c0c-befc-9bddfbe2c302"
      },
      "source": []
    },
    {
      "cell_type": "code",
      "execution_count": null,
      "id": "9d5ce0fc-8ee3-456f-8970-577e3866d357",
      "metadata": {
        "id": "9d5ce0fc-8ee3-456f-8970-577e3866d357"
      },
      "outputs": [],
      "source": []
    }
  ],
  "metadata": {
    "kernelspec": {
      "display_name": "Python 3 (ipykernel)",
      "language": "python",
      "name": "python3"
    },
    "language_info": {
      "codemirror_mode": {
        "name": "ipython",
        "version": 3
      },
      "file_extension": ".py",
      "mimetype": "text/x-python",
      "name": "python",
      "nbconvert_exporter": "python",
      "pygments_lexer": "ipython3",
      "version": "3.13.1"
    },
    "colab": {
      "provenance": []
    }
  },
  "nbformat": 4,
  "nbformat_minor": 5
}