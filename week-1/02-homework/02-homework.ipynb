{
  "cells": [
    {
      "cell_type": "markdown",
      "id": "76639b6d-da73-4e1e-8aaa-0070a2403485",
      "metadata": {
        "id": "76639b6d-da73-4e1e-8aaa-0070a2403485"
      },
      "source": [
        "# Homework: Variables/Boolean Expressions/__`if`__ Statements/Pseudocode\n",
        "\n",
        "## **Submission Guidelines**\n",
        "* Focus on completing Exercises 1, 2, 3, and 4. Exercise 5 are _stretch challenges_.\n",
        "* Submit your by copy and pasting each exercise into the text submission box for this assessment in brightspace* Clearly label each exercise and include comments to explain your logic.\n",
        "\n",
        "## Instructions\n",
        "\n",
        "Complete the following exercises in a single Python file or Jupyter Notebook. Clearly label each exercise and when needed, include comments explaining your logic. Focus on completing Exercise 1 through 4. Exercise 5 is a _stretch challenge_."
      ]
    },
    {
      "cell_type": "markdown",
      "id": "1b3cec93-6b5b-4d78-81ab-17ab17b75a25",
      "metadata": {
        "id": "1b3cec93-6b5b-4d78-81ab-17ab17b75a25"
      },
      "source": [
        "### Exercise 1: Variables\n",
        "* Each scenario below describes some data to be manipulated by your code. Choose appropriate variable names (and values) and create variables/expressions for these scenarios.\n",
        "  "
      ]
    },
    {
      "cell_type": "markdown",
      "id": "8a3f8bb8-024e-4645-b633-356db225d206",
      "metadata": {
        "id": "8a3f8bb8-024e-4645-b633-356db225d206"
      },
      "source": [
        "1. Determine the cost of some number of pounds of cement. Assume there is a sales tax that applies.\n",
        "  "
      ]
    },
    {
      "cell_type": "code",
      "execution_count": 3,
      "id": "d0fe743d-1acd-41a8-a0b9-92aedc8fc0a4",
      "metadata": {
        "id": "d0fe743d-1acd-41a8-a0b9-92aedc8fc0a4",
        "outputId": "84486d54-51a3-4fd5-bf99-76e313e4cadf",
        "colab": {
          "base_uri": "https://localhost:8080/"
        }
      },
      "outputs": [
        {
          "output_type": "stream",
          "name": "stdout",
          "text": [
            "Total cost for 27, pounds of cement with tax: $ 9.46\n"
          ]
        }
      ],
      "source": [
        "pounds_of_cement = 27\n",
        "price_per_pound = 0.31\n",
        "sales_tax_rate = 0.13\n",
        "\n",
        "total_cost =  pounds_of_cement * price_per_pound * (1 + sales_tax_rate)\n",
        "print(f\"Total cost for {pounds_of_cement}, pounds of cement with tax: $ {total_cost:.2f}\")\n"
      ]
    },
    {
      "cell_type": "markdown",
      "id": "b1aa5351-43b1-401f-b15a-ecff2d4c393b",
      "metadata": {
        "id": "b1aa5351-43b1-401f-b15a-ecff2d4c393b"
      },
      "source": [
        "2. Given the cost of various containers of eggs (perhaps half a dozen, one dozen, and 1 1/2 dozen), determine the cost _per egg_ for each of those containers.\n",
        "  "
      ]
    },
    {
      "cell_type": "code",
      "execution_count": 7,
      "id": "e757836e-1848-434f-9301-d41470770f49",
      "metadata": {
        "id": "e757836e-1848-434f-9301-d41470770f49",
        "outputId": "bbaf693c-083c-4424-b176-a7a5cbe12761",
        "colab": {
          "base_uri": "https://localhost:8080/"
        }
      },
      "outputs": [
        {
          "output_type": "stream",
          "name": "stdout",
          "text": [
            "Cost per egg half dozen: $0.29\n",
            "Cost per egg one dozen: $0.27\n",
            "Cost per egg 1.5 dozen: $0.25\n"
          ]
        }
      ],
      "source": [
        "cost_half_dozen = 1.75\n",
        "cost_one_dozen = 3.25\n",
        "cost_one_and_half_dozen = 4.50\n",
        "\n",
        "cost_per_egg_half = cost_half_dozen / 6\n",
        "cost_per_egg_dozen = cost_one_dozen / 12\n",
        "cost_per_egg_one_and_half = cost_one_and_half_dozen / 18\n",
        "\n",
        "print(f\"Cost per egg half dozen: ${cost_per_egg_half:.2f}\")\n",
        "print(f\"Cost per egg one dozen: ${cost_per_egg_dozen:.2f}\")\n",
        "print(f\"Cost per egg 1.5 dozen: ${cost_per_egg_one_and_half:.2f}\")\n"
      ]
    },
    {
      "cell_type": "markdown",
      "id": "192dfb2f-790e-4725-b201-3b803f4fc348",
      "metadata": {
        "id": "192dfb2f-790e-4725-b201-3b803f4fc348"
      },
      "source": [
        "3. Given an hourly wage and a number of hours worked, determine how much a worker should be paid for shoveling snow."
      ]
    },
    {
      "cell_type": "code",
      "execution_count": 8,
      "id": "9f098469-0470-4a68-ba73-721bd6526c2c",
      "metadata": {
        "id": "9f098469-0470-4a68-ba73-721bd6526c2c",
        "outputId": "c6a98d41-a0d7-4780-9f63-8a7e368b0d28",
        "colab": {
          "base_uri": "https://localhost:8080/"
        }
      },
      "outputs": [
        {
          "output_type": "stream",
          "name": "stdout",
          "text": [
            "Total pay for shoveling snow: $1800.00\n"
          ]
        }
      ],
      "source": [
        "hourly_wage = 45\n",
        "hours_worked = 40\n",
        "\n",
        "total_pay = hourly_wage * hours_worked\n",
        "\n",
        "print(f\"Total pay for shoveling snow: ${total_pay:.2f}\")"
      ]
    },
    {
      "cell_type": "markdown",
      "id": "3a702132-7720-45b3-97d6-6dc7d4fc1113",
      "metadata": {
        "id": "3a702132-7720-45b3-97d6-6dc7d4fc1113"
      },
      "source": [
        "### Exercise 2: Boolean Expressions\n",
        "* Each scenario below describes some data to be manipulated by your code. Choose appropriate variable names (and values) and create Boolean expressions for these scenarios.\n",
        "  "
      ]
    },
    {
      "cell_type": "markdown",
      "id": "192e9f66-c2a7-4933-beaa-4666f57ac042",
      "metadata": {
        "id": "192e9f66-c2a7-4933-beaa-4666f57ac042"
      },
      "source": [
        "1. Given the number of hours worked in a week, determine whether the employee will receive any overtime pay.\n",
        "  "
      ]
    },
    {
      "cell_type": "code",
      "execution_count": 16,
      "id": "d99bbc14-4ab9-4cc2-abf4-0f847d4aa95c",
      "metadata": {
        "id": "d99bbc14-4ab9-4cc2-abf4-0f847d4aa95c",
        "outputId": "0fd0fc6d-601b-4ff8-c91f-929b7999852e",
        "colab": {
          "base_uri": "https://localhost:8080/"
        }
      },
      "outputs": [
        {
          "output_type": "stream",
          "name": "stdout",
          "text": [
            "Employee will receive overtime pay\n"
          ]
        }
      ],
      "source": [
        "hours_worked = 45\n",
        "standard_hours = 40\n",
        "\n",
        "print((\"Employee will not receive overtime pay\", \"Employee will receive overtime pay\") [hours_worked > standard_hours])"
      ]
    },
    {
      "cell_type": "markdown",
      "id": "39e3ed1b-b146-4653-a011-05cc34913574",
      "metadata": {
        "id": "39e3ed1b-b146-4653-a011-05cc34913574"
      },
      "source": [
        "2. Determine whether someone else's name is the same as your name.\n",
        "  "
      ]
    },
    {
      "cell_type": "code",
      "execution_count": 18,
      "id": "99c07417-eb54-44db-8fdf-d890b0f48892",
      "metadata": {
        "id": "99c07417-eb54-44db-8fdf-d890b0f48892",
        "outputId": "d4c84341-1e60-4bf4-c7db-b99d77ef824d",
        "colab": {
          "base_uri": "https://localhost:8080/"
        }
      },
      "outputs": [
        {
          "output_type": "stream",
          "name": "stdout",
          "text": [
            "Enter your name: stanley\n",
            "The names are the same.\n"
          ]
        }
      ],
      "source": [
        "my_name = \"Stanley\"\n",
        "other_name = input(\"Enter your name: \")\n",
        "\n",
        "print((\"The names are different.\",\"The names are the same.\")[my_name.upper() == other_name.upper()])"
      ]
    },
    {
      "cell_type": "markdown",
      "id": "906a7a13-ae3e-4369-8853-a970d326c03e",
      "metadata": {
        "id": "906a7a13-ae3e-4369-8853-a970d326c03e"
      },
      "source": [
        "3. Determine whether the number of consecutive days of rain is at least 3"
      ]
    },
    {
      "cell_type": "code",
      "execution_count": 20,
      "id": "490fd285-10c5-4d98-8bb5-fde0566e6064",
      "metadata": {
        "id": "490fd285-10c5-4d98-8bb5-fde0566e6064",
        "outputId": "86894e83-12c5-4768-9b00-9eb7b7fcfb6d",
        "colab": {
          "base_uri": "https://localhost:8080/"
        }
      },
      "outputs": [
        {
          "output_type": "stream",
          "name": "stdout",
          "text": [
            "Enter number of consecutive rainy days: 5\n",
            "Number of consecutive rainy days is 3 or more.\n"
          ]
        }
      ],
      "source": [
        "days_of_rain = int(input(\"Enter number of consecutive rainy days: \"))\n",
        "\n",
        "print((\n",
        "    \"Number of consecutive rainy days is less than 3.\",\n",
        "    \"Number of consecutive rainy days is 3 or more.\"\n",
        ")[days_of_rain >= 3])"
      ]
    },
    {
      "cell_type": "markdown",
      "id": "6901b93f-56e3-4400-9acb-cee75d015682",
      "metadata": {
        "id": "6901b93f-56e3-4400-9acb-cee75d015682"
      },
      "source": [
        "### Exercise 3: Pseudocode\n",
        "* Turn the following bits of pseudocode into __`if`__ statements\n",
        "  "
      ]
    },
    {
      "cell_type": "markdown",
      "id": "9dfa5f07-9053-4497-ab09-a2dd4d4445f1",
      "metadata": {
        "id": "9dfa5f07-9053-4497-ab09-a2dd4d4445f1"
      },
      "source": [
        "1. Output a warning if the person's name is empty"
      ]
    },
    {
      "cell_type": "code",
      "source": [
        "name = input(\"Enter your name: \")\n",
        "\n",
        "if not name:\n",
        "  print(\"Warning: Name cannot be empty.\")"
      ],
      "metadata": {
        "id": "hvGvGFPvw7S3",
        "outputId": "940c2dc1-29ef-478e-fb59-45a69245158b",
        "colab": {
          "base_uri": "https://localhost:8080/"
        }
      },
      "id": "hvGvGFPvw7S3",
      "execution_count": 22,
      "outputs": [
        {
          "name": "stdout",
          "output_type": "stream",
          "text": [
            "Enter your name: ZX\n"
          ]
        }
      ]
    },
    {
      "cell_type": "markdown",
      "id": "a3f4e55f-8d45-4fef-bfe2-a754e694872e",
      "metadata": {
        "id": "a3f4e55f-8d45-4fef-bfe2-a754e694872e"
      },
      "source": [
        "3. BMI can be calculated as 703 times weight in pounds, divided by height in inches squared. Output \"Healthy BMI\" if the calculated BMI is below 25."
      ]
    },
    {
      "cell_type": "code",
      "source": [
        "weight = float(input(\"Enter weight in pounds: \"))\n",
        "height = float(input(\"Enter height in inches: \"))\n",
        "\n",
        "bmi = 703 * weight / (height ** 2)\n",
        "\n",
        "if bmi < 25:\n",
        "    print(\"Healthy BMI\")"
      ],
      "metadata": {
        "id": "kwRuQ8BwxOi5",
        "outputId": "243faba9-1cfd-4ad6-9e72-ae9a3921da35",
        "colab": {
          "base_uri": "https://localhost:8080/"
        }
      },
      "id": "kwRuQ8BwxOi5",
      "execution_count": 23,
      "outputs": [
        {
          "output_type": "stream",
          "name": "stdout",
          "text": [
            "Enter weight in pounds: 135\n",
            "Enter height in inches: 73\n",
            "Healthy BMI\n"
          ]
        }
      ]
    },
    {
      "cell_type": "markdown",
      "id": "8f66564d-86cf-4141-be27-fe41a0145695",
      "metadata": {
        "id": "8f66564d-86cf-4141-be27-fe41a0145695"
      },
      "source": [
        "2. Turn on the fuel warning light when the number of gallons remaining is less than 1.5"
      ]
    },
    {
      "cell_type": "code",
      "source": [
        "gallons_remaining = float (input(\"Enter amount of remaining gallons\"))\n",
        "warning_amount = 1.5\n",
        "\n",
        "if gallons_remaining < warning_amount:\n",
        "  print(\"Warning light\")\n"
      ],
      "metadata": {
        "id": "J7jxPzNUxdLA",
        "outputId": "76fff4ad-c77b-4217-b5bc-3c8a16ea94c4",
        "colab": {
          "base_uri": "https://localhost:8080/"
        }
      },
      "id": "J7jxPzNUxdLA",
      "execution_count": 25,
      "outputs": [
        {
          "name": "stdout",
          "output_type": "stream",
          "text": [
            "Enter amount of remaining gallons2\n"
          ]
        }
      ]
    },
    {
      "cell_type": "markdown",
      "id": "2c55859e-fa56-4690-a8a6-70b73e1249fc",
      "metadata": {
        "id": "2c55859e-fa56-4690-a8a6-70b73e1249fc"
      },
      "source": [
        "### Exercise 4: if statements\n",
        "* Explain what each of the following __`if`__ statements is doing/asking"
      ]
    },
    {
      "cell_type": "code",
      "execution_count": null,
      "id": "e282eb92-7ac0-47c8-9ee6-6311d7832a39",
      "metadata": {
        "id": "e282eb92-7ac0-47c8-9ee6-6311d7832a39"
      },
      "outputs": [],
      "source": [
        "feet = 4\n",
        "inches = 8\n",
        "\n",
        "if feet * 12 + inches >= 56:\n",
        "    print('...')"
      ]
    },
    {
      "cell_type": "markdown",
      "source": [
        "1. Feet * 12 -> converts feets to inches bold text.\n",
        "\n",
        "\n",
        "---\n",
        "\n",
        "\n",
        "2. Result of above + inchees -> add inches to get total heigt.\n",
        "\n",
        "\n",
        "---\n",
        "\n",
        "\n",
        "3. If total height is more or equal to 56 inches then print ...\n",
        "\n",
        "\n",
        "\n"
      ],
      "metadata": {
        "id": "MXGBhhg-zF6P"
      },
      "id": "MXGBhhg-zF6P"
    },
    {
      "cell_type": "code",
      "execution_count": 26,
      "id": "d20594b7-6e22-49c9-af84-59f842357bc4",
      "metadata": {
        "id": "d20594b7-6e22-49c9-af84-59f842357bc4",
        "outputId": "750ceeb6-efd2-4aef-e748-b3dba8f14986",
        "colab": {
          "base_uri": "https://localhost:8080/"
        }
      },
      "outputs": [
        {
          "output_type": "stream",
          "name": "stdout",
          "text": [
            "9\n",
            "4\n"
          ]
        }
      ],
      "source": [
        "hours = 220\n",
        "days = 0\n",
        "\n",
        "if hours > 23:\n",
        "    days = hours // 24\n",
        "    print(days)\n",
        "\n",
        "print(hours - days * 24)"
      ]
    },
    {
      "cell_type": "markdown",
      "source": [
        "1. This code checks if given amout of hours is at least 24.\n",
        "\n",
        "---\n",
        "\n",
        "\n",
        "2. If yes then calculate print amount of days.\n",
        "\n",
        "\n",
        "---\n",
        "\n",
        "3. Also calculate and print leftover hours.\n"
      ],
      "metadata": {
        "id": "KxXzAp-k0LCw"
      },
      "id": "KxXzAp-k0LCw"
    },
    {
      "cell_type": "code",
      "execution_count": null,
      "id": "6b8c21b4-3a09-435d-a36c-0bde2fea31ad",
      "metadata": {
        "id": "6b8c21b4-3a09-435d-a36c-0bde2fea31ad"
      },
      "outputs": [],
      "source": [
        "eggs = 45\n",
        "\n",
        "if eggs >= 12:\n",
        "    print(eggs // 12, 'dozen')\n",
        "\n",
        "print('plus', eggs - (eggs // 12) * 12)"
      ]
    },
    {
      "cell_type": "markdown",
      "source": [
        "1. This code check if given amout of egges is at least dozen.\n",
        "\n",
        "---\n",
        "2. Print how many dozens eggs is geiven plus leftover\n"
      ],
      "metadata": {
        "id": "iX1xmDoi1qDi"
      },
      "id": "iX1xmDoi1qDi"
    },
    {
      "cell_type": "markdown",
      "id": "b0196bce-78f4-489f-8209-0e4d0eb601b9",
      "metadata": {
        "id": "b0196bce-78f4-489f-8209-0e4d0eb601b9"
      },
      "source": [
        "### Exercise 5: if statements\n",
        "1. Turn the following English description of a problem (steps) into pseudocode. Not that where you see \"find out\" below, you can either assume the value will be in a variable, or you can get input from the user. Remember this is pseudocode you are writing, so even though we haven't learned how to get input from the user, you could specify that action in your pseudocode.\n",
        "\n",
        "    1. find out how many people are in their party\n",
        "    1. find out the start time of the movie they want to see\n",
        "    1. find out how many seniors (62+) are in their party\n",
        "    1. find out how many students are in their party\n",
        "    1. the price of their tickets will be \\\\$10 each for movies that start after 4:30 pm and \\\\$7.50 for movies that start before 4:30 pm\n",
        "    1. seniors (62+) receive a 50% discount on the ticket price\n",
        "    1. students received a 25% discount on the ticket price\n",
        "    1. a group of 10+ paid at the same time saves \\\\$1 per ticket, on top of any other discounts\n",
        "\n",
        "1. Now turn your pseudocode into working Python code. Again, we haven't learned how to get input from the user but could also look it up or you could set variables with various values and ensure the result is correct."
      ]
    },
    {
      "cell_type": "code",
      "execution_count": 27,
      "id": "c6738a10-12ad-410a-8b16-b1b8a517cece",
      "metadata": {
        "id": "c6738a10-12ad-410a-8b16-b1b8a517cece",
        "outputId": "47957af5-03dd-4862-ff65-3db64649fa77",
        "colab": {
          "base_uri": "https://localhost:8080/"
        }
      },
      "outputs": [
        {
          "output_type": "stream",
          "name": "stdout",
          "text": [
            "Enter the number of people in your party: 34\n",
            "Enter the movie start hour (24-hour format, e.g. 16 for 4 PM): 16\n",
            "Enter the movie start minute (e.g. 0, 15, 30): 45\n",
            "Enter the number of seniors (age 62+): 4\n",
            "Enter the number of students: 2\n",
            "Total cost for 34 people: $281.00\n"
          ]
        }
      ],
      "source": [
        "number_of_people = int(input(\"Enter the number of people in your party: \"))\n",
        "movie_start_hour = int(input(\"Enter the movie start hour (24-hour format, e.g. 16 for 4 PM): \"))\n",
        "movie_start_minute = int(input(\"Enter the movie start minute (e.g. 0, 15, 30): \"))\n",
        "number_of_seniors = int(input(\"Enter the number of seniors (age 62+): \"))\n",
        "number_of_students = int(input(\"Enter the number of students: \"))\n",
        "\n",
        "if movie_start_hour > 16 or (movie_start_hour == 16 and movie_start_minute > 30):\n",
        "    ticket_price = 10.00\n",
        "else:\n",
        "    ticket_price = 7.50\n",
        "\n",
        "regular_people = number_of_people - number_of_seniors - number_of_students\n",
        "total_cost = 0\n",
        "\n",
        "total_cost += number_of_seniors * (ticket_price * 0.5)\n",
        "total_cost += number_of_students * (ticket_price * 0.75)\n",
        "total_cost += regular_people * ticket_price\n",
        "\n",
        "if number_of_people >= 10:\n",
        "    total_cost -= number_of_people * 1.00\n",
        "\n",
        "print(f\"Total cost for {number_of_people} people: ${total_cost:.2f}\")"
      ]
    }
  ],
  "metadata": {
    "kernelspec": {
      "display_name": "Python 3 (ipykernel)",
      "language": "python",
      "name": "python3"
    },
    "language_info": {
      "codemirror_mode": {
        "name": "ipython",
        "version": 3
      },
      "file_extension": ".py",
      "mimetype": "text/x-python",
      "name": "python",
      "nbconvert_exporter": "python",
      "pygments_lexer": "ipython3",
      "version": "3.13.1"
    },
    "colab": {
      "provenance": []
    }
  },
  "nbformat": 4,
  "nbformat_minor": 5
}