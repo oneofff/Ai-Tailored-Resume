{
  "cells": [
    {
      "cell_type": "markdown",
      "metadata": {
        "id": "view-in-github",
        "colab_type": "text"
      },
      "source": [
        "<a href=\"https://colab.research.google.com/github/oneofff/Ai-Tailored-Resume/blob/master/01_homework.ipynb\" target=\"_parent\"><img src=\"https://colab.research.google.com/assets/colab-badge.svg\" alt=\"Open In Colab\"/></a>"
      ]
    },
    {
      "cell_type": "markdown",
      "metadata": {
        "id": "0tiorfKHpcyd"
      },
      "source": [
        "# Homework: Conditional Logic and Boolean Expressions"
      ]
    },
    {
      "cell_type": "markdown",
      "metadata": {
        "id": "cCU2HY_2pcyf"
      },
      "source": [
        "## **Submission Guidelines**\n",
        "* Focus on completing Exercises 1, 2 and 3. Exercises 4 and 5 are _stretch challenges_.\n",
        "* Submit your by copy and pasting each exercise into the text submission box for this assessment in brightspace* Clearly label each exercise and include comments to explain your logic.\n",
        "\n",
        "\n",
        "## Instructions"
      ]
    },
    {
      "cell_type": "markdown",
      "metadata": {
        "id": "HqO9oIT8pcyf"
      },
      "source": [
        "\n",
        "Copy this Jupyter Notebook and complete each exercise in the provided spaces.  \n",
        "\n",
        "- Clearly label each exercise and include comments explaining your logic.  \n",
        "- Focus on completing Exercises 1–3; Exercises 4 and 5 are a stretch challenge.\n",
        "- Modify the predefined variables as needed to test different cases.  \n",
        "\n",
        "**Remember to start with the English steps, write pseudocode, then write code.**"
      ]
    },
    {
      "cell_type": "markdown",
      "metadata": {
        "id": "3D2sBcFopcyg"
      },
      "source": [
        "## **Exercise 1: Basic Conditional Statements**"
      ]
    },
    {
      "cell_type": "markdown",
      "metadata": {
        "id": "oHxbmQVDpcyg"
      },
      "source": [
        "\n",
        "1. **Write a Conditional Statement:** A variable `temperature` is already defined.\n",
        "2. **Use an If-Else Statement:** If the temperature is greater than 80, print `\"It's hot!\"`; otherwise, print `\"It's not too hot.\"`"
      ]
    },
    {
      "cell_type": "code",
      "execution_count": null,
      "metadata": {
        "colab": {
          "base_uri": "https://localhost:8080/"
        },
        "id": "9RstV-yFpcyg",
        "outputId": "9e3d0d96-28fd-4879-dc81-35ce956f0d10"
      },
      "outputs": [
        {
          "output_type": "stream",
          "name": "stdout",
          "text": [
            "It's not too hot.\n"
          ]
        }
      ],
      "source": [
        "# Exercise 1\n",
        "temperature = 75  # Change this value to test different conditions\n",
        "# Your if-else statement here\n",
        "if temperature > 80:\n",
        "  print(\"It's hot!\")\n",
        "else:\n",
        "  print(\"It's not too hot.\")"
      ]
    },
    {
      "cell_type": "markdown",
      "metadata": {
        "id": "WvnxGbYMpcyh"
      },
      "source": [
        "\n",
        "## **Exercise 2: Logical Operators**"
      ]
    },
    {
      "cell_type": "markdown",
      "metadata": {
        "id": "kN3ytXgcpcyh"
      },
      "source": [
        "\n",
        "1. **Boolean Variables:** `is_raining` and `have_umbrella` are already defined.\n",
        "2. **Use Logical Operators:** Write an `if` statement that prints `\"You will stay dry\"` only if you have an umbrella or it's not raining."
      ]
    },
    {
      "cell_type": "code",
      "execution_count": null,
      "metadata": {
        "colab": {
          "base_uri": "https://localhost:8080/"
        },
        "id": "X_SuluX-pcyh",
        "outputId": "4cdb6088-d584-43f2-d36f-f8479aeb268e"
      },
      "outputs": [
        {
          "output_type": "stream",
          "name": "stdout",
          "text": [
            "You will stay dry\n"
          ]
        }
      ],
      "source": [
        "# Exercise 2\n",
        "is_raining = True  # Change this to test\n",
        "have_umbrella = False  # Change this to test\n",
        "# Your conditional logic here\n",
        "if   is_raining == False or have_umbrella:\n",
        "  print(\"You will stay dry\")"
      ]
    },
    {
      "cell_type": "markdown",
      "metadata": {
        "id": "qUVID_gEpcyh"
      },
      "source": [
        "## **Exercise 3: Nested Conditions**"
      ]
    },
    {
      "cell_type": "markdown",
      "metadata": {
        "id": "F2FKpwBlpcyh"
      },
      "source": [
        "\n",
        "A **store discount system** follows these rules:\n",
        "- If a customer is a member, they get a 10% discount.\n",
        "- If they spend over $100, they get an additional 5% discount.\n",
        "- If they are not a member, they get no discount.\n",
        "\n",
        "Write a program that calculates the discount using predefined values for `is_member` and `total_spent`."
      ]
    },
    {
      "cell_type": "code",
      "execution_count": null,
      "metadata": {
        "colab": {
          "base_uri": "https://localhost:8080/"
        },
        "id": "6BRivMXdpcyh",
        "outputId": "4a0503dd-6d69-4904-e4d7-6266065ab6b3"
      },
      "outputs": [
        {
          "output_type": "stream",
          "name": "stdout",
          "text": [
            "18.0\n"
          ]
        }
      ],
      "source": [
        "is_member = True  # Change this value to test\n",
        "total_spent = 120  # Change this value to test\n",
        "# Your logic here\n",
        "discount = 0\n",
        "if is_member:\n",
        "  discount += total_spent * 0.1\n",
        "  if total_spent > 100:\n",
        "    discount += total_spent * 0.05\n",
        "print(discount)\n"
      ]
    },
    {
      "cell_type": "markdown",
      "metadata": {
        "id": "hqUkvMylpcyh"
      },
      "source": [
        "\n",
        "## **Exercise 4: Manual Number Comparison (Extra Hard)**"
      ]
    },
    {
      "cell_type": "markdown",
      "metadata": {
        "id": "ew0nqF08pcyh"
      },
      "source": [
        "\n",
        "Given three numbers `a, b, c`, determine and print the **largest** and **smallest** **without using built-in functions** like `max()` or `min()`.\n",
        "\n",
        "- **Hint**: You must manually compare each number using nested `if` statements."
      ]
    },
    {
      "cell_type": "code",
      "execution_count": null,
      "metadata": {
        "colab": {
          "base_uri": "https://localhost:8080/"
        },
        "id": "-S6GkWf9pcyi",
        "outputId": "fa021801-39e6-4285-b150-6b0eb699f12a"
      },
      "outputs": [
        {
          "output_type": "stream",
          "name": "stdout",
          "text": [
            "20\n",
            "10\n"
          ]
        }
      ],
      "source": [
        "# Exercise 5\n",
        "a = 10\n",
        "b = 20\n",
        "c = 15\n",
        "\n",
        "largest = a\n",
        "smallest = a\n",
        "\n",
        "if b > largest:\n",
        "  largest = b\n",
        "if c > largest:\n",
        "  largest = c\n",
        "\n",
        "if b < smallest:\n",
        "  smallest = b\n",
        "if c < smallest:\n",
        "  smallest = c\n",
        "\n",
        "\n",
        "print(largest)\n",
        "print(smallest)\n",
        "# Your logic here"
      ]
    },
    {
      "cell_type": "markdown",
      "metadata": {
        "id": "hoDqUdHFpcyi"
      },
      "source": [
        "## **Exercise 5: Nested Logical Puzzle (Nearly Impossible)**"
      ]
    },
    {
      "cell_type": "markdown",
      "metadata": {
        "id": "8dzMG9PSpcyi"
      },
      "source": [
        "\n",
        "You're given four integer variables: `a`, `b`, `c`, and `d`. Write a program to determine and print:\n",
        "\n",
        "1. **The second largest** number among the four variables **without using any built-in functions or sorting**.\n",
        "2. Additionally, identify if the second largest number is **even or odd** and print the result accordingly.\n",
        "\n",
        "You must solve this **only using nested conditional statements and logical operators**.\n",
        "\n",
        "**Example Output:**  \n",
        "```\n",
        "The second largest number is 42\n",
        "The second largest number is even.\n",
        "```\n",
        "\n",
        "This challenge demands careful consideration of multiple comparisons and conditions.\n"
      ]
    },
    {
      "cell_type": "code",
      "execution_count": null,
      "metadata": {
        "id": "GaMMbBaypcyi"
      },
      "outputs": [],
      "source": [
        "# Exercise 5\n",
        "a = 25  # Change this to test\n",
        "b = 42  # Change this to test\n",
        "c = 37  # Change this to test\n",
        "d = 42  # Change this to test\n",
        "\n",
        "# Your logic here\n"
      ]
    },
    {
      "cell_type": "markdown",
      "metadata": {
        "id": "vai6wy-Wpcyi"
      },
      "source": [
        "\n",
        "\n",
        "## **Submission Guidelines**"
      ]
    },
    {
      "cell_type": "markdown",
      "metadata": {
        "id": "-rjWnM9Epcyi"
      },
      "source": [
        "\n",
        "- Submit your work as a single Python file (`.py`) or a Jupyter Notebook (`.ipynb`).\n",
        "- Clearly label each exercise and include comments to explain your logic.\n",
        "- Focus on completing Exercises 1–3; Exercises 4 and 5 are a stretch challenge.\n"
      ]
    }
  ],
  "metadata": {
    "kernelspec": {
      "display_name": "Python 3",
      "language": "python",
      "name": "python3"
    },
    "language_info": {
      "codemirror_mode": {
        "name": "ipython",
        "version": 3
      },
      "file_extension": ".py",
      "mimetype": "text/x-python",
      "name": "python",
      "nbconvert_exporter": "python",
      "pygments_lexer": "ipython3",
      "version": "3.12.2"
    },
    "colab": {
      "provenance": [],
      "include_colab_link": true
    }
  },
  "nbformat": 4,
  "nbformat_minor": 0
}